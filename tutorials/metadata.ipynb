{
 "cells": [
  {
   "cell_type": "markdown",
   "metadata": {
    "slideshow": {
     "slide_type": "slide"
    }
   },
   "source": [
    "The Metadata API enables applications to:\n",
    "* CRUD Metadata on a file\n",
    "* Search by Metadata value"
   ]
  },
  {
   "cell_type": "markdown",
   "metadata": {
    "slideshow": {
     "slide_type": "slide"
    }
   },
   "source": [
    "Terminology:\n",
    "* Metadata properties are grouped into **Templates** (e.g. Contracts, Invoices)\n",
    "* Templates are identified by **template key** and **scope**\n",
    "* A metadata **instance** is attached to a file, and conforms to a template’s schema.  A file can have multiple instances, but only one from each template."
   ]
  },
  {
   "cell_type": "markdown",
   "metadata": {
    "slideshow": {
     "slide_type": "slide"
    }
   },
   "source": [
    "Setting up our client, we want to subclass the DefaultNetwork to add illustrative logging to our output:"
   ]
  },
  {
   "cell_type": "code",
   "execution_count": 4,
   "metadata": {
    "collapsed": true,
    "slideshow": {
     "slide_type": "slide"
    }
   },
   "outputs": [],
   "source": [
    "from boxsdk.network.default_network import DefaultNetwork\n",
    "from pprint import pformat\n",
    "\n",
    "class LoggingNetwork(DefaultNetwork):\n",
    "    def request(self, method, url, access_token, **kwargs):\n",
    "        print '\\x1b[36m{} {} {}\\x1b[0m'.format(method, url, pformat(kwargs))\n",
    "        response = super(LoggingNetwork, self).request(\n",
    "            method, url, access_token, **kwargs\n",
    "        )\n",
    "        if response.ok:\n",
    "            print '\\x1b[32m{}\\x1b[0m'.format(response.content)\n",
    "        else:\n",
    "            print '\\x1b[31m{}\\n{}\\n{}\\x1b[0m'.format(\n",
    "                response.status_code,\n",
    "                response.headers,\n",
    "                pformat(response.content),\n",
    "            )\n",
    "        return response"
   ]
  },
  {
   "cell_type": "markdown",
   "metadata": {},
   "source": [
    "Fill in your client_id, client_secret, and developer token that you obtained from the [developers site](https://app.box.com/developers/services):"
   ]
  },
  {
   "cell_type": "code",
   "execution_count": 5,
   "metadata": {
    "collapsed": false,
    "slideshow": {
     "slide_type": "slide"
    }
   },
   "outputs": [],
   "source": [
    "from boxsdk import OAuth2\n",
    "from boxsdk import Client\n",
    "oauth = OAuth2(client_id='YOUR_CLIENT_ID', client_secret='YOUR_CLIENT_SECRET', access_token='YOUR_DEVELOPER_TOKEN')\n",
    "client = Client(oauth, LoggingNetwork())"
   ]
  },
  {
   "cell_type": "markdown",
   "metadata": {
    "slideshow": {
     "slide_type": "slide"
    }
   },
   "source": [
    "I'll demonstrate the CRUD abilities of the Metadata API. Using the Python SDK makes the API dead simple to use.\n",
    "\n",
    "First, let's assume our account already has a file with ID 28792944858 and a template named \"mortgageContarct\".  We'll create a metadata instance of that type:"
   ]
  },
  {
   "cell_type": "code",
   "execution_count": 12,
   "metadata": {
    "collapsed": false,
    "slideshow": {
     "slide_type": "slide"
    }
   },
   "outputs": [
    {
     "name": "stdout",
     "output_type": "stream",
     "text": [
      "\u001b[36mPOST https://api.box.com/2.0/files/28792944858/metadata/enterprise/mortgageApplication {'data': '{\"status\": \"Pending Approval\", \"amount\": 8888888, \"borrowerName\": \"Alice\"}',\n",
      " 'headers': {u'Authorization': u'Bearer bljFP0m8vTdsKK3gWY0pnI2ETkluAAhW',\n",
      "             'Content-Type': 'application/json'}}\u001b[0m\n",
      "\u001b[32m{\"status\":\"Pending Approval\",\"amount\":8888888,\"borrowerName\":\"Alice\",\"$type\":\"mortgageApplication-a2387be8-1279-4249-853b-f4a7cb6e0a54\",\"$parent\":\"file_28792944858\",\"$id\":\"657378d4-0617-4a04-9067-7e625076a0c2\"}\u001b[0m\n"
     ]
    },
    {
     "data": {
      "text/plain": [
       "{u'$id': u'657378d4-0617-4a04-9067-7e625076a0c2',\n",
       " u'$parent': u'file_28792944858',\n",
       " u'$type': u'mortgageApplication-a2387be8-1279-4249-853b-f4a7cb6e0a54',\n",
       " u'amount': 8888888,\n",
       " u'borrowerName': u'Alice',\n",
       " u'status': u'Pending Approval'}"
      ]
     },
     "execution_count": 12,
     "metadata": {},
     "output_type": "execute_result"
    }
   ],
   "source": [
    "metadata = client.file(28792944858).metadata('enterprise', 'mortgageApplication')\n",
    "metadata.create({'borrowerName':'Alice', 'amount':8888888, 'status':'Pending Approval'})"
   ]
  },
  {
   "cell_type": "markdown",
   "metadata": {
    "slideshow": {
     "slide_type": "slide"
    }
   },
   "source": [
    "The metadata instance has been created and returned to you."
   ]
  },
  {
   "cell_type": "markdown",
   "metadata": {},
   "source": [
    "Next, we'll demonstrate the Metadata Search API.  The Metadata Search API allows clients to search for files that match certain metadata values.\n",
    "\n",
    "For example, our user's enterprise has a Mortgage Application metadata template, and we've attached an instance of the Mortgage Application template to a file in the user's account.  We can search for this file by a specific field, status. In this example, the template is identified by template_key and scope, and the value itself is identified by the field_key."
   ]
  },
  {
   "cell_type": "code",
   "execution_count": 14,
   "metadata": {
    "collapsed": false
   },
   "outputs": [
    {
     "name": "stdout",
     "output_type": "stream",
     "text": [
      "\u001b[36mGET https://api.box.com/2.0/search {'headers': {u'Authorization': u'Bearer bljFP0m8vTdsKK3gWY0pnI2ETkluAAhW'},\n",
      " 'params': {u'limit': 1,\n",
      "            u'mdfilters': '[{\"templateKey\": \"mortgageApplication\", \"scope\": \"enterprise\", \"filters\": {\"status\": \"Pending Approval\"}}]',\n",
      "            u'offset': 0,\n",
      "            u'query': 'pdf'}}\u001b[0m\n",
      "\u001b[32m{\"total_count\":1,\"entries\":[{\"type\":\"file\",\"id\":\"28792944858\",\"file_version\":{\"type\":\"file_version\",\"id\":\"27449889040\",\"sha1\":\"34a17c1adb83874c40b4e4bb228d5d8299055fc0\"},\"sequence_id\":\"1\",\"etag\":\"1\",\"sha1\":\"34a17c1adb83874c40b4e4bb228d5d8299055fc0\",\"name\":\"Alice Mortgage Application.pdf\",\"description\":\"\",\"size\":382898,\"path_collection\":{\"total_count\":2,\"entries\":[{\"type\":\"folder\",\"id\":\"0\",\"sequence_id\":null,\"etag\":null,\"name\":\"All Files\"},{\"type\":\"folder\",\"id\":\"3442170474\",\"sequence_id\":\"0\",\"etag\":\"0\",\"name\":\"Box Dev 2015 Demo\"}]},\"created_at\":\"2015-04-14T22:11:54-07:00\",\"modified_at\":\"2015-04-14T22:12:39-07:00\",\"trashed_at\":null,\"purged_at\":null,\"content_created_at\":\"2015-02-20T20:51:40-08:00\",\"content_modified_at\":\"2015-02-20T20:51:40-08:00\",\"created_by\":{\"type\":\"user\",\"id\":\"236030416\",\"name\":\"Carol\",\"login\":\"hieu+metadata-boxdev2015@box.com\"},\"modified_by\":{\"type\":\"user\",\"id\":\"236030416\",\"name\":\"Carol\",\"login\":\"hieu+metadata-boxdev2015@box.com\"},\"owned_by\":{\"type\":\"user\",\"id\":\"236030416\",\"name\":\"Carol\",\"login\":\"hieu+metadata-boxdev2015@box.com\"},\"shared_link\":null,\"parent\":{\"type\":\"folder\",\"id\":\"3442170474\",\"sequence_id\":\"0\",\"etag\":\"0\",\"name\":\"Box Dev 2015 Demo\"},\"item_status\":\"active\"}],\"limit\":1,\"offset\":0}\u001b[0m\n"
     ]
    },
    {
     "data": {
      "text/plain": [
       "[<boxsdk.object.file.File at 0x10e2e88d0>]"
      ]
     },
     "execution_count": 14,
     "metadata": {},
     "output_type": "execute_result"
    }
   ],
   "source": [
    "from boxsdk.object.search import Search\n",
    "metadata_filters = Search.start_metadata_filters()\n",
    "metadata_filter = Search.make_single_metadata_filter(template_key='mortgageApplication', scope='enterprise')\n",
    "metadata_filter.add_value_based_filter(field_key='status', value='Pending Approval')\n",
    "metadata_filters.add_filter(metadata_filter)\n",
    "client.search('pdf', limit=1, offset=0, metadata_filters=metadata_filters)"
   ]
  },
  {
   "cell_type": "markdown",
   "metadata": {},
   "source": [
    "Next, we'll update the metadata instance, testing that the value is still what we expect it to be:"
   ]
  },
  {
   "cell_type": "code",
   "execution_count": 15,
   "metadata": {
    "collapsed": false,
    "slideshow": {
     "slide_type": "slide"
    }
   },
   "outputs": [
    {
     "name": "stdout",
     "output_type": "stream",
     "text": [
      "\u001b[36mPUT https://api.box.com/2.0/files/28792944858/metadata/enterprise/mortgageApplication {'data': '[{\"path\": \"/status\", \"value\": \"Pending Approval\", \"op\": \"test\"}, {\"path\": \"/status\", \"value\": \"Approved\", \"op\": \"replace\"}]',\n",
      " 'headers': {u'Authorization': u'Bearer bljFP0m8vTdsKK3gWY0pnI2ETkluAAhW',\n",
      "             'Content-Type': 'application/json-patch+json'}}\u001b[0m\n",
      "\u001b[32m{\"status\":\"Approved\",\"amount\":8888888,\"borrowerName\":\"Alice\",\"$type\":\"mortgageApplication-a2387be8-1279-4249-853b-f4a7cb6e0a54\",\"$parent\":\"file_28792944858\",\"$id\":\"657378d4-0617-4a04-9067-7e625076a0c2\"}\u001b[0m\n"
     ]
    },
    {
     "data": {
      "text/plain": [
       "{u'$id': u'657378d4-0617-4a04-9067-7e625076a0c2',\n",
       " u'$parent': u'file_28792944858',\n",
       " u'$type': u'mortgageApplication-a2387be8-1279-4249-853b-f4a7cb6e0a54',\n",
       " u'amount': 8888888,\n",
       " u'borrowerName': u'Alice',\n",
       " u'status': u'Approved'}"
      ]
     },
     "execution_count": 15,
     "metadata": {},
     "output_type": "execute_result"
    }
   ],
   "source": [
    "from boxsdk.object.metadata import Metadata\n",
    "update = Metadata.start_update()\n",
    "update.update('/status', 'Approved', 'Pending Approval')\n",
    "metadata.update(update)"
   ]
  },
  {
   "cell_type": "markdown",
   "metadata": {
    "slideshow": {
     "slide_type": "slide"
    }
   },
   "source": [
    "Notice the PUT body is an array of 2 operations: test and replace. The PUT body conforms to the [JSON Patch](https://tools.ietf.org/html/rfc6902) specification for updating JSON objects.\n",
    "\n",
    "If we attempt to issue the same patch again, the operation will fail because the value is not what we expected it to be:"
   ]
  },
  {
   "cell_type": "code",
   "execution_count": 16,
   "metadata": {
    "collapsed": false,
    "slideshow": {
     "slide_type": "slide"
    }
   },
   "outputs": [
    {
     "name": "stdout",
     "output_type": "stream",
     "text": [
      "\u001b[36mPUT https://api.box.com/2.0/files/28792944858/metadata/enterprise/mortgageApplication {'data': '[{\"path\": \"/status\", \"value\": \"Pending Approval\", \"op\": \"test\"}, {\"path\": \"/status\", \"value\": \"Approved\", \"op\": \"replace\"}]',\n",
      " 'headers': {u'Authorization': u'Bearer bljFP0m8vTdsKK3gWY0pnI2ETkluAAhW',\n",
      "             'Content-Type': 'application/json-patch+json'}}\u001b[0m\n",
      "\u001b[31m409\n",
      "{'content-length': '123', 'age': '1', 'server': 'ATS', 'connection': 'keep-alive', 'date': 'Wed, 22 Apr 2015 16:28:46 GMT', 'content-type': 'application/json'}\n",
      "'{\"message\":\"value differs from expectations\",\"code\":\"failed_json_patch_application\",\"request_id\":\"11962628355537cc3dd9baa\"}'\u001b[0m\n"
     ]
    },
    {
     "ename": "BoxAPIException",
     "evalue": "\nMessage: value differs from expectations\nStatus: 409\nCode: failed_json_patch_application\nRequest id: 11962628355537cc3dd9baa\nHeaders: {'content-length': '123', 'age': '1', 'server': 'ATS', 'connection': 'keep-alive', 'date': 'Wed, 22 Apr 2015 16:28:46 GMT', 'content-type': 'application/json'}\nURL: https://api.box.com/2.0/files/28792944858/metadata/enterprise/mortgageApplication\nMethod: PUT",
     "output_type": "error",
     "traceback": [
      "\u001b[0;31m---------------------------------------------------------------------------\u001b[0m",
      "\u001b[0;31mBoxAPIException\u001b[0m                           Traceback (most recent call last)",
      "\u001b[0;32m<ipython-input-16-0e3a050a8302>\u001b[0m in \u001b[0;36m<module>\u001b[0;34m()\u001b[0m\n\u001b[1;32m      1\u001b[0m \u001b[0mupdate\u001b[0m \u001b[0;34m=\u001b[0m \u001b[0mMetadata\u001b[0m\u001b[0;34m.\u001b[0m\u001b[0mstart_update\u001b[0m\u001b[0;34m(\u001b[0m\u001b[0;34m)\u001b[0m\u001b[0;34m\u001b[0m\u001b[0m\n\u001b[1;32m      2\u001b[0m \u001b[0mupdate\u001b[0m\u001b[0;34m.\u001b[0m\u001b[0mupdate\u001b[0m\u001b[0;34m(\u001b[0m\u001b[0;34m'/status'\u001b[0m\u001b[0;34m,\u001b[0m \u001b[0;34m'Approved'\u001b[0m\u001b[0;34m,\u001b[0m \u001b[0;34m'Pending Approval'\u001b[0m\u001b[0;34m)\u001b[0m\u001b[0;34m\u001b[0m\u001b[0m\n\u001b[0;32m----> 3\u001b[0;31m \u001b[0mmetadata\u001b[0m\u001b[0;34m.\u001b[0m\u001b[0mupdate\u001b[0m\u001b[0;34m(\u001b[0m\u001b[0mupdate\u001b[0m\u001b[0;34m)\u001b[0m\u001b[0;34m\u001b[0m\u001b[0m\n\u001b[0m",
      "\u001b[0;32m/Users/hnguyen/Code/box-python-sdk-hieu/boxsdk/object/metadata.pyc\u001b[0m in \u001b[0;36mupdate\u001b[0;34m(self, metadata_update)\u001b[0m\n\u001b[1;32m    155\u001b[0m             \u001b[0mself\u001b[0m\u001b[0;34m.\u001b[0m\u001b[0mget_url\u001b[0m\u001b[0;34m(\u001b[0m\u001b[0;34m)\u001b[0m\u001b[0;34m,\u001b[0m\u001b[0;34m\u001b[0m\u001b[0m\n\u001b[1;32m    156\u001b[0m             \u001b[0mdata\u001b[0m\u001b[0;34m=\u001b[0m\u001b[0mjson\u001b[0m\u001b[0;34m.\u001b[0m\u001b[0mdumps\u001b[0m\u001b[0;34m(\u001b[0m\u001b[0mmetadata_update\u001b[0m\u001b[0;34m.\u001b[0m\u001b[0mops\u001b[0m\u001b[0;34m)\u001b[0m\u001b[0;34m,\u001b[0m\u001b[0;34m\u001b[0m\u001b[0m\n\u001b[0;32m--> 157\u001b[0;31m             \u001b[0mheaders\u001b[0m\u001b[0;34m=\u001b[0m\u001b[0;34m{\u001b[0m\u001b[0;34mb'Content-Type'\u001b[0m\u001b[0;34m:\u001b[0m \u001b[0;34mb'application/json-patch+json'\u001b[0m\u001b[0;34m}\u001b[0m\u001b[0;34m,\u001b[0m\u001b[0;34m\u001b[0m\u001b[0m\n\u001b[0m\u001b[1;32m    158\u001b[0m         ).json()\n\u001b[1;32m    159\u001b[0m \u001b[0;34m\u001b[0m\u001b[0m\n",
      "\u001b[0;32m/Users/hnguyen/Code/box-python-sdk-hieu/boxsdk/session/box_session.pyc\u001b[0m in \u001b[0;36mput\u001b[0;34m(self, url, **kwargs)\u001b[0m\n\u001b[1;32m    347\u001b[0m             \u001b[0;34m`\u001b[0m\u001b[0municode\u001b[0m\u001b[0;34m`\u001b[0m\u001b[0;34m\u001b[0m\u001b[0m\n\u001b[1;32m    348\u001b[0m         \"\"\"\n\u001b[0;32m--> 349\u001b[0;31m         \u001b[0mresponse\u001b[0m \u001b[0;34m=\u001b[0m \u001b[0mself\u001b[0m\u001b[0;34m.\u001b[0m\u001b[0m_prepare_and_send_request\u001b[0m\u001b[0;34m(\u001b[0m\u001b[0;34m'PUT'\u001b[0m\u001b[0;34m,\u001b[0m \u001b[0murl\u001b[0m\u001b[0;34m,\u001b[0m \u001b[0;34m**\u001b[0m\u001b[0mkwargs\u001b[0m\u001b[0;34m)\u001b[0m\u001b[0;34m\u001b[0m\u001b[0m\n\u001b[0m\u001b[1;32m    350\u001b[0m         \u001b[0;32mreturn\u001b[0m \u001b[0mBoxResponse\u001b[0m\u001b[0;34m(\u001b[0m\u001b[0mresponse\u001b[0m\u001b[0;34m)\u001b[0m\u001b[0;34m\u001b[0m\u001b[0m\n\u001b[1;32m    351\u001b[0m \u001b[0;34m\u001b[0m\u001b[0m\n",
      "\u001b[0;32m/Users/hnguyen/Code/box-python-sdk-hieu/boxsdk/session/box_session.pyc\u001b[0m in \u001b[0;36m_prepare_and_send_request\u001b[0;34m(self, method, url, headers, auto_session_renewal, expect_json_response, attempt_number, **kwargs)\u001b[0m\n\u001b[1;32m    236\u001b[0m             \u001b[0mattempt_number\u001b[0m\u001b[0;34m,\u001b[0m\u001b[0;34m\u001b[0m\u001b[0m\n\u001b[1;32m    237\u001b[0m             \u001b[0mfile_stream_positions\u001b[0m\u001b[0;34m=\u001b[0m\u001b[0mfile_stream_positions\u001b[0m\u001b[0;34m,\u001b[0m\u001b[0;34m\u001b[0m\u001b[0m\n\u001b[0;32m--> 238\u001b[0;31m             \u001b[0;34m**\u001b[0m\u001b[0mkwargs\u001b[0m\u001b[0;34m\u001b[0m\u001b[0m\n\u001b[0m\u001b[1;32m    239\u001b[0m         )\n\u001b[1;32m    240\u001b[0m \u001b[0;34m\u001b[0m\u001b[0m\n",
      "\u001b[0;32m/Users/hnguyen/Code/box-python-sdk-hieu/boxsdk/session/box_session.pyc\u001b[0m in \u001b[0;36m_make_request\u001b[0;34m(self, method, url, headers, auto_session_renewal, expect_json_response, attempt_number, **kwargs)\u001b[0m\n\u001b[1;32m    313\u001b[0m         )\n\u001b[1;32m    314\u001b[0m \u001b[0;34m\u001b[0m\u001b[0m\n\u001b[0;32m--> 315\u001b[0;31m         \u001b[0mself\u001b[0m\u001b[0;34m.\u001b[0m\u001b[0m_raise_on_unsuccessful_request\u001b[0m\u001b[0;34m(\u001b[0m\u001b[0mnetwork_response\u001b[0m\u001b[0;34m,\u001b[0m \u001b[0mexpect_json_response\u001b[0m\u001b[0;34m,\u001b[0m \u001b[0mmethod\u001b[0m\u001b[0;34m,\u001b[0m \u001b[0murl\u001b[0m\u001b[0;34m)\u001b[0m\u001b[0;34m\u001b[0m\u001b[0m\n\u001b[0m\u001b[1;32m    316\u001b[0m \u001b[0;34m\u001b[0m\u001b[0m\n\u001b[1;32m    317\u001b[0m         \u001b[0;32mreturn\u001b[0m \u001b[0mnetwork_response\u001b[0m\u001b[0;34m\u001b[0m\u001b[0m\n",
      "\u001b[0;32m/Users/hnguyen/Code/box-python-sdk-hieu/boxsdk/session/box_session.pyc\u001b[0m in \u001b[0;36m_raise_on_unsuccessful_request\u001b[0;34m(self, network_response, expect_json_response, method, url)\u001b[0m\n\u001b[1;32m    175\u001b[0m                 \u001b[0mrequest_id\u001b[0m\u001b[0;34m=\u001b[0m\u001b[0mresponse_json\u001b[0m\u001b[0;34m.\u001b[0m\u001b[0mget\u001b[0m\u001b[0;34m(\u001b[0m\u001b[0;34m'request_id'\u001b[0m\u001b[0;34m,\u001b[0m \u001b[0mNone\u001b[0m\u001b[0;34m)\u001b[0m\u001b[0;34m,\u001b[0m\u001b[0;34m\u001b[0m\u001b[0m\n\u001b[1;32m    176\u001b[0m                 \u001b[0murl\u001b[0m\u001b[0;34m=\u001b[0m\u001b[0murl\u001b[0m\u001b[0;34m,\u001b[0m\u001b[0;34m\u001b[0m\u001b[0m\n\u001b[0;32m--> 177\u001b[0;31m                 \u001b[0mmethod\u001b[0m\u001b[0;34m=\u001b[0m\u001b[0mmethod\u001b[0m\u001b[0;34m,\u001b[0m\u001b[0;34m\u001b[0m\u001b[0m\n\u001b[0m\u001b[1;32m    178\u001b[0m             )\n\u001b[1;32m    179\u001b[0m         \u001b[0;32mif\u001b[0m \u001b[0mexpect_json_response\u001b[0m \u001b[0;32mand\u001b[0m \u001b[0;32mnot\u001b[0m \u001b[0mself\u001b[0m\u001b[0;34m.\u001b[0m\u001b[0m_is_json_response\u001b[0m\u001b[0;34m(\u001b[0m\u001b[0mnetwork_response\u001b[0m\u001b[0;34m)\u001b[0m\u001b[0;34m:\u001b[0m\u001b[0;34m\u001b[0m\u001b[0m\n",
      "\u001b[0;31mBoxAPIException\u001b[0m: \nMessage: value differs from expectations\nStatus: 409\nCode: failed_json_patch_application\nRequest id: 11962628355537cc3dd9baa\nHeaders: {'content-length': '123', 'age': '1', 'server': 'ATS', 'connection': 'keep-alive', 'date': 'Wed, 22 Apr 2015 16:28:46 GMT', 'content-type': 'application/json'}\nURL: https://api.box.com/2.0/files/28792944858/metadata/enterprise/mortgageApplication\nMethod: PUT"
     ]
    }
   ],
   "source": [
    "update = Metadata.start_update()\n",
    "update.update('/status', 'Approved', 'Pending Approval')\n",
    "metadata.update(update)"
   ]
  },
  {
   "cell_type": "markdown",
   "metadata": {
    "slideshow": {
     "slide_type": "slide"
    }
   },
   "source": [
    "Now, we'll retrieve the metadata again to demonstrate the GET operation:"
   ]
  },
  {
   "cell_type": "code",
   "execution_count": 17,
   "metadata": {
    "collapsed": false,
    "slideshow": {
     "slide_type": "slide"
    }
   },
   "outputs": [
    {
     "name": "stdout",
     "output_type": "stream",
     "text": [
      "\u001b[36mGET https://api.box.com/2.0/files/28792944858/metadata/enterprise/mortgageApplication {'headers': {u'Authorization': u'Bearer bljFP0m8vTdsKK3gWY0pnI2ETkluAAhW'}}\u001b[0m\n",
      "\u001b[32m{\"status\":\"Approved\",\"amount\":8888888,\"borrowerName\":\"Alice\",\"$type\":\"mortgageApplication-a2387be8-1279-4249-853b-f4a7cb6e0a54\",\"$parent\":\"file_28792944858\",\"$id\":\"657378d4-0617-4a04-9067-7e625076a0c2\"}\u001b[0m\n"
     ]
    },
    {
     "data": {
      "text/plain": [
       "{u'$id': u'657378d4-0617-4a04-9067-7e625076a0c2',\n",
       " u'$parent': u'file_28792944858',\n",
       " u'$type': u'mortgageApplication-a2387be8-1279-4249-853b-f4a7cb6e0a54',\n",
       " u'amount': 8888888,\n",
       " u'borrowerName': u'Alice',\n",
       " u'status': u'Approved'}"
      ]
     },
     "execution_count": 17,
     "metadata": {},
     "output_type": "execute_result"
    }
   ],
   "source": [
    "metadata.get()"
   ]
  },
  {
   "cell_type": "markdown",
   "metadata": {
    "slideshow": {
     "slide_type": "slide"
    }
   },
   "source": [
    "Finally, we'll delete the metadata on the file:"
   ]
  },
  {
   "cell_type": "code",
   "execution_count": 18,
   "metadata": {
    "collapsed": false,
    "slideshow": {
     "slide_type": "slide"
    }
   },
   "outputs": [
    {
     "name": "stdout",
     "output_type": "stream",
     "text": [
      "\u001b[36mDELETE https://api.box.com/2.0/files/28792944858/metadata/enterprise/mortgageApplication {'headers': {u'Authorization': u'Bearer bljFP0m8vTdsKK3gWY0pnI2ETkluAAhW'}}\u001b[0m\n",
      "\u001b[32m\u001b[0m\n"
     ]
    },
    {
     "data": {
      "text/plain": [
       "True"
      ]
     },
     "execution_count": 18,
     "metadata": {},
     "output_type": "execute_result"
    }
   ],
   "source": [
    "metadata.delete()"
   ]
  },
  {
   "cell_type": "markdown",
   "metadata": {
    "slideshow": {
     "slide_type": "slide"
    }
   },
   "source": [
    "If we attempt to retrieve the metadata again, then the metadata will not be found:"
   ]
  },
  {
   "cell_type": "code",
   "execution_count": 19,
   "metadata": {
    "collapsed": false,
    "slideshow": {
     "slide_type": "slide"
    }
   },
   "outputs": [
    {
     "name": "stdout",
     "output_type": "stream",
     "text": [
      "\u001b[36mGET https://api.box.com/2.0/files/28792944858/metadata/enterprise/mortgageApplication {'headers': {u'Authorization': u'Bearer bljFP0m8vTdsKK3gWY0pnI2ETkluAAhW'}}\u001b[0m\n",
      "\u001b[31m404\n",
      "{'content-length': '180', 'content-encoding': 'gzip', 'age': '0', 'vary': 'Accept-Encoding', 'server': 'ATS', 'connection': 'keep-alive', 'date': 'Wed, 22 Apr 2015 16:28:56 GMT', 'content-type': 'application/json'}\n",
      "'{\"message\":\"Instance not found for \\'\\\\\"parented\\\\\", \\\\\"file_28792944858\\\\\", \\\\\"mortgageApplication-a2387be8-1279-4249-853b-f4a7cb6e0a54\\\\\"\\'\",\"code\":\"tuple_not_found\",\"request_id\":\"19099247955537cc48197fe\"}'\u001b[0m\n"
     ]
    },
    {
     "ename": "BoxAPIException",
     "evalue": "\nMessage: Instance not found for '\"parented\", \"file_28792944858\", \"mortgageApplication-a2387be8-1279-4249-853b-f4a7cb6e0a54\"'\nStatus: 404\nCode: tuple_not_found\nRequest id: 19099247955537cc48197fe\nHeaders: {'content-length': '180', 'content-encoding': 'gzip', 'age': '0', 'vary': 'Accept-Encoding', 'server': 'ATS', 'connection': 'keep-alive', 'date': 'Wed, 22 Apr 2015 16:28:56 GMT', 'content-type': 'application/json'}\nURL: https://api.box.com/2.0/files/28792944858/metadata/enterprise/mortgageApplication\nMethod: GET",
     "output_type": "error",
     "traceback": [
      "\u001b[0;31m---------------------------------------------------------------------------\u001b[0m",
      "\u001b[0;31mBoxAPIException\u001b[0m                           Traceback (most recent call last)",
      "\u001b[0;32m<ipython-input-19-5912b71dad7f>\u001b[0m in \u001b[0;36m<module>\u001b[0;34m()\u001b[0m\n\u001b[0;32m----> 1\u001b[0;31m \u001b[0mmetadata\u001b[0m\u001b[0;34m.\u001b[0m\u001b[0mget\u001b[0m\u001b[0;34m(\u001b[0m\u001b[0;34m)\u001b[0m\u001b[0;34m\u001b[0m\u001b[0m\n\u001b[0m",
      "\u001b[0;32m/Users/hnguyen/Code/box-python-sdk-hieu/boxsdk/object/metadata.pyc\u001b[0m in \u001b[0;36mget\u001b[0;34m(self)\u001b[0m\n\u001b[1;32m    167\u001b[0m             \u001b[0;34m:\u001b[0m\u001b[0;32mclass\u001b[0m\u001b[0;34m:\u001b[0m\u001b[0;34m`\u001b[0m\u001b[0mMetadata\u001b[0m\u001b[0;34m`\u001b[0m\u001b[0;34m\u001b[0m\u001b[0m\n\u001b[1;32m    168\u001b[0m         \"\"\"\n\u001b[0;32m--> 169\u001b[0;31m         \u001b[0;32mreturn\u001b[0m \u001b[0mself\u001b[0m\u001b[0;34m.\u001b[0m\u001b[0m_session\u001b[0m\u001b[0;34m.\u001b[0m\u001b[0mget\u001b[0m\u001b[0;34m(\u001b[0m\u001b[0mself\u001b[0m\u001b[0;34m.\u001b[0m\u001b[0mget_url\u001b[0m\u001b[0;34m(\u001b[0m\u001b[0;34m)\u001b[0m\u001b[0;34m)\u001b[0m\u001b[0;34m.\u001b[0m\u001b[0mjson\u001b[0m\u001b[0;34m(\u001b[0m\u001b[0;34m)\u001b[0m\u001b[0;34m\u001b[0m\u001b[0m\n\u001b[0m\u001b[1;32m    170\u001b[0m \u001b[0;34m\u001b[0m\u001b[0m\n\u001b[1;32m    171\u001b[0m     \u001b[0;32mdef\u001b[0m \u001b[0mdelete\u001b[0m\u001b[0;34m(\u001b[0m\u001b[0mself\u001b[0m\u001b[0;34m)\u001b[0m\u001b[0;34m:\u001b[0m\u001b[0;34m\u001b[0m\u001b[0m\n",
      "\u001b[0;32m/Users/hnguyen/Code/box-python-sdk-hieu/boxsdk/session/box_session.pyc\u001b[0m in \u001b[0;36mget\u001b[0;34m(self, url, **kwargs)\u001b[0m\n\u001b[1;32m    325\u001b[0m             \u001b[0;34m`\u001b[0m\u001b[0municode\u001b[0m\u001b[0;34m`\u001b[0m\u001b[0;34m\u001b[0m\u001b[0m\n\u001b[1;32m    326\u001b[0m         \"\"\"\n\u001b[0;32m--> 327\u001b[0;31m         \u001b[0mresponse\u001b[0m \u001b[0;34m=\u001b[0m \u001b[0mself\u001b[0m\u001b[0;34m.\u001b[0m\u001b[0m_prepare_and_send_request\u001b[0m\u001b[0;34m(\u001b[0m\u001b[0;34m'GET'\u001b[0m\u001b[0;34m,\u001b[0m \u001b[0murl\u001b[0m\u001b[0;34m,\u001b[0m \u001b[0;34m**\u001b[0m\u001b[0mkwargs\u001b[0m\u001b[0;34m)\u001b[0m\u001b[0;34m\u001b[0m\u001b[0m\n\u001b[0m\u001b[1;32m    328\u001b[0m         \u001b[0;32mreturn\u001b[0m \u001b[0mBoxResponse\u001b[0m\u001b[0;34m(\u001b[0m\u001b[0mresponse\u001b[0m\u001b[0;34m)\u001b[0m\u001b[0;34m\u001b[0m\u001b[0m\n\u001b[1;32m    329\u001b[0m \u001b[0;34m\u001b[0m\u001b[0m\n",
      "\u001b[0;32m/Users/hnguyen/Code/box-python-sdk-hieu/boxsdk/session/box_session.pyc\u001b[0m in \u001b[0;36m_prepare_and_send_request\u001b[0;34m(self, method, url, headers, auto_session_renewal, expect_json_response, attempt_number, **kwargs)\u001b[0m\n\u001b[1;32m    236\u001b[0m             \u001b[0mattempt_number\u001b[0m\u001b[0;34m,\u001b[0m\u001b[0;34m\u001b[0m\u001b[0m\n\u001b[1;32m    237\u001b[0m             \u001b[0mfile_stream_positions\u001b[0m\u001b[0;34m=\u001b[0m\u001b[0mfile_stream_positions\u001b[0m\u001b[0;34m,\u001b[0m\u001b[0;34m\u001b[0m\u001b[0m\n\u001b[0;32m--> 238\u001b[0;31m             \u001b[0;34m**\u001b[0m\u001b[0mkwargs\u001b[0m\u001b[0;34m\u001b[0m\u001b[0m\n\u001b[0m\u001b[1;32m    239\u001b[0m         )\n\u001b[1;32m    240\u001b[0m \u001b[0;34m\u001b[0m\u001b[0m\n",
      "\u001b[0;32m/Users/hnguyen/Code/box-python-sdk-hieu/boxsdk/session/box_session.pyc\u001b[0m in \u001b[0;36m_make_request\u001b[0;34m(self, method, url, headers, auto_session_renewal, expect_json_response, attempt_number, **kwargs)\u001b[0m\n\u001b[1;32m    313\u001b[0m         )\n\u001b[1;32m    314\u001b[0m \u001b[0;34m\u001b[0m\u001b[0m\n\u001b[0;32m--> 315\u001b[0;31m         \u001b[0mself\u001b[0m\u001b[0;34m.\u001b[0m\u001b[0m_raise_on_unsuccessful_request\u001b[0m\u001b[0;34m(\u001b[0m\u001b[0mnetwork_response\u001b[0m\u001b[0;34m,\u001b[0m \u001b[0mexpect_json_response\u001b[0m\u001b[0;34m,\u001b[0m \u001b[0mmethod\u001b[0m\u001b[0;34m,\u001b[0m \u001b[0murl\u001b[0m\u001b[0;34m)\u001b[0m\u001b[0;34m\u001b[0m\u001b[0m\n\u001b[0m\u001b[1;32m    316\u001b[0m \u001b[0;34m\u001b[0m\u001b[0m\n\u001b[1;32m    317\u001b[0m         \u001b[0;32mreturn\u001b[0m \u001b[0mnetwork_response\u001b[0m\u001b[0;34m\u001b[0m\u001b[0m\n",
      "\u001b[0;32m/Users/hnguyen/Code/box-python-sdk-hieu/boxsdk/session/box_session.pyc\u001b[0m in \u001b[0;36m_raise_on_unsuccessful_request\u001b[0;34m(self, network_response, expect_json_response, method, url)\u001b[0m\n\u001b[1;32m    175\u001b[0m                 \u001b[0mrequest_id\u001b[0m\u001b[0;34m=\u001b[0m\u001b[0mresponse_json\u001b[0m\u001b[0;34m.\u001b[0m\u001b[0mget\u001b[0m\u001b[0;34m(\u001b[0m\u001b[0;34m'request_id'\u001b[0m\u001b[0;34m,\u001b[0m \u001b[0mNone\u001b[0m\u001b[0;34m)\u001b[0m\u001b[0;34m,\u001b[0m\u001b[0;34m\u001b[0m\u001b[0m\n\u001b[1;32m    176\u001b[0m                 \u001b[0murl\u001b[0m\u001b[0;34m=\u001b[0m\u001b[0murl\u001b[0m\u001b[0;34m,\u001b[0m\u001b[0;34m\u001b[0m\u001b[0m\n\u001b[0;32m--> 177\u001b[0;31m                 \u001b[0mmethod\u001b[0m\u001b[0;34m=\u001b[0m\u001b[0mmethod\u001b[0m\u001b[0;34m,\u001b[0m\u001b[0;34m\u001b[0m\u001b[0m\n\u001b[0m\u001b[1;32m    178\u001b[0m             )\n\u001b[1;32m    179\u001b[0m         \u001b[0;32mif\u001b[0m \u001b[0mexpect_json_response\u001b[0m \u001b[0;32mand\u001b[0m \u001b[0;32mnot\u001b[0m \u001b[0mself\u001b[0m\u001b[0;34m.\u001b[0m\u001b[0m_is_json_response\u001b[0m\u001b[0;34m(\u001b[0m\u001b[0mnetwork_response\u001b[0m\u001b[0;34m)\u001b[0m\u001b[0;34m:\u001b[0m\u001b[0;34m\u001b[0m\u001b[0m\n",
      "\u001b[0;31mBoxAPIException\u001b[0m: \nMessage: Instance not found for '\"parented\", \"file_28792944858\", \"mortgageApplication-a2387be8-1279-4249-853b-f4a7cb6e0a54\"'\nStatus: 404\nCode: tuple_not_found\nRequest id: 19099247955537cc48197fe\nHeaders: {'content-length': '180', 'content-encoding': 'gzip', 'age': '0', 'vary': 'Accept-Encoding', 'server': 'ATS', 'connection': 'keep-alive', 'date': 'Wed, 22 Apr 2015 16:28:56 GMT', 'content-type': 'application/json'}\nURL: https://api.box.com/2.0/files/28792944858/metadata/enterprise/mortgageApplication\nMethod: GET"
     ]
    }
   ],
   "source": [
    "metadata.get()"
   ]
  },
  {
   "cell_type": "markdown",
   "metadata": {
    "slideshow": {
     "slide_type": "slide"
    }
   },
   "source": [
    "That's it! Now you'll be able to easily CRUD metadata and search for files with metadata using the Python SDK."
   ]
  },
  {
   "cell_type": "markdown",
   "metadata": {
    "slideshow": {
     "slide_type": "slide"
    }
   },
   "source": [
    "This notebook is available for download: http://opensource.box.com/box-python-sdk/tutorials/metadata.ipynb\n",
    "\n",
    "Its content is licensed under the [Apache License 2.0](https://www.apache.org/licenses/LICENSE-2.0).\n",
    "\n",
    "To reproduce the presentation, execute the following commands:\n",
    "\n",
    "    curl -O http://opensource.box.com/box-python-sdk/tutorials/metadata.ipynb\n",
    "    pip install boxsdk ipython[notebook]\n",
    "    ipython notebook metadata.ipynb"
   ]
  }
 ],
 "metadata": {
  "celltoolbar": "Slideshow",
  "kernelspec": {
   "display_name": "Python 2",
   "language": "python",
   "name": "python2"
  },
  "language_info": {
   "codemirror_mode": {
    "name": "ipython",
    "version": 2
   },
   "file_extension": ".py",
   "mimetype": "text/x-python",
   "name": "python",
   "nbconvert_exporter": "python",
   "pygments_lexer": "ipython2",
   "version": "2.7.9"
  }
 },
 "nbformat": 4,
 "nbformat_minor": 0
}
